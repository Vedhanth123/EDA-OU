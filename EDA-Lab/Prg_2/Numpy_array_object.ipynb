{
  "nbformat": 4,
  "nbformat_minor": 0,
  "metadata": {
    "colab": {
      "provenance": []
    },
    "kernelspec": {
      "display_name": "Python 3",
      "language": "python",
      "name": "python3"
    }
  },
  "cells": [
    {
      "cell_type": "markdown",
      "metadata": {
        "id": "F9MJmcoJ5KBl"
      },
      "source": [
        "# The Numpy array object"
      ]
    },
    {
      "cell_type": "markdown",
      "metadata": {
        "id": "_W1FTSgc5KBp"
      },
      "source": [
        "# NumPy Arrays"
      ]
    },
    {
      "cell_type": "markdown",
      "metadata": {
        "id": "Iw1S7Yvv5KBs"
      },
      "source": [
        "**python objects:**\n",
        "\n",
        "1. high-level number objects: integers, floating point\n",
        "2. containers: lists (costless insertion and append), dictionaries (fast lookup)"
      ]
    },
    {
      "cell_type": "markdown",
      "metadata": {
        "id": "M_wtB2DN5KBu"
      },
      "source": [
        "**Numpy provides:**\n",
        "\n",
        "1. extension package to Python for multi-dimensional arrays\n",
        "2. closer to hardware (efficiency)\n",
        "3. designed for scientific computation (convenience)\n",
        "4. Also known as array oriented computing"
      ]
    },
    {
      "cell_type": "code",
      "metadata": {
        "id": "M7o8-MYe5KBw",
        "colab": {
          "base_uri": "https://localhost:8080/"
        },
        "outputId": "961e2442-ba5a-49b8-eade-703598820f70"
      },
      "source": [
        "import numpy as np\n",
        "a = np.array([0, 1, 2, 3])\n",
        "print(a)\n",
        "\n",
        "print(np.arange(10))\n",
        "\n",
        "b = np.array([[1,2,3,4], [5,6,7,8], [9,10,11,12]])\n",
        "print(b)"
      ],
      "execution_count": null,
      "outputs": [
        {
          "output_type": "stream",
          "name": "stdout",
          "text": [
            "[0 1 2 3]\n",
            "[0 1 2 3 4 5 6 7 8 9]\n",
            "[[ 1  2  3  4]\n",
            " [ 5  6  7  8]\n",
            " [ 9 10 11 12]]\n"
          ]
        }
      ]
    },
    {
      "cell_type": "markdown",
      "metadata": {
        "id": "BjqwPMHc5KB_"
      },
      "source": [
        "**Why it is useful:** Memory-efficient container that provides fast numerical operations."
      ]
    },
    {
      "cell_type": "code",
      "metadata": {
        "id": "vyVPcXHk5KCA",
        "outputId": "f3cb7a81-0f4b-416c-85a9-a1fd569aa5c6",
        "colab": {
          "base_uri": "https://localhost:8080/"
        }
      },
      "source": [
        "#python lists\n",
        "L = range(1000)\n",
        "%timeit [i**2 for i in L]"
      ],
      "execution_count": null,
      "outputs": [
        {
          "output_type": "stream",
          "name": "stdout",
          "text": [
            "305 µs ± 7.64 µs per loop (mean ± std. dev. of 7 runs, 1000 loops each)\n"
          ]
        }
      ]
    },
    {
      "cell_type": "code",
      "metadata": {
        "id": "1gUw8VoU5KCG",
        "outputId": "05a795c3-9d94-44b3-9ff4-034b9f2b132a",
        "colab": {
          "base_uri": "https://localhost:8080/"
        }
      },
      "source": [
        "a = np.arange(1000)\n",
        "%timeit a**2"
      ],
      "execution_count": null,
      "outputs": [
        {
          "output_type": "stream",
          "name": "stdout",
          "text": [
            "1.63 µs ± 493 ns per loop (mean ± std. dev. of 7 runs, 100000 loops each)\n"
          ]
        }
      ]
    },
    {
      "cell_type": "markdown",
      "metadata": {
        "id": "OASYSloj5KCM"
      },
      "source": [
        "# 1. Creating arrays"
      ]
    },
    {
      "cell_type": "markdown",
      "metadata": {
        "id": "duovuzMA5KCO"
      },
      "source": [
        "** 1.1.  Manual Construction of arrays**"
      ]
    },
    {
      "cell_type": "code",
      "metadata": {
        "id": "NPGF-D0C5KCQ",
        "outputId": "a95b1536-b6a8-4086-c3c4-f321aa5a92d0",
        "colab": {
          "base_uri": "https://localhost:8080/"
        }
      },
      "source": [
        "#1-D\n",
        "\n",
        "a = np.array([0, 1, 2, 3])\n",
        "\n",
        "a"
      ],
      "execution_count": null,
      "outputs": [
        {
          "output_type": "execute_result",
          "data": {
            "text/plain": [
              "array([0, 1, 2, 3])"
            ]
          },
          "metadata": {},
          "execution_count": 5
        }
      ]
    },
    {
      "cell_type": "code",
      "metadata": {
        "id": "PpI7fZNz5KCW",
        "outputId": "d8a64f87-aa8f-44ac-c639-6e8a9bd59011",
        "colab": {
          "base_uri": "https://localhost:8080/"
        }
      },
      "source": [
        "#print dimensions\n",
        "\n",
        "a.ndim"
      ],
      "execution_count": null,
      "outputs": [
        {
          "output_type": "execute_result",
          "data": {
            "text/plain": [
              "1"
            ]
          },
          "metadata": {},
          "execution_count": 6
        }
      ]
    },
    {
      "cell_type": "code",
      "metadata": {
        "id": "oSY_Zr__5KCc",
        "outputId": "b5e08823-0c10-4a97-ffc5-4ebf70673b42",
        "colab": {
          "base_uri": "https://localhost:8080/"
        }
      },
      "source": [
        "#shape\n",
        "\n",
        "a.shape"
      ],
      "execution_count": null,
      "outputs": [
        {
          "output_type": "execute_result",
          "data": {
            "text/plain": [
              "(4,)"
            ]
          },
          "metadata": {},
          "execution_count": 7
        }
      ]
    },
    {
      "cell_type": "code",
      "metadata": {
        "id": "ur9ff3_j5KCg",
        "outputId": "e594fed4-7072-441c-f3cb-c86113103266",
        "colab": {
          "base_uri": "https://localhost:8080/"
        }
      },
      "source": [
        "len(a)"
      ],
      "execution_count": null,
      "outputs": [
        {
          "output_type": "execute_result",
          "data": {
            "text/plain": [
              "4"
            ]
          },
          "metadata": {},
          "execution_count": 8
        }
      ]
    },
    {
      "cell_type": "code",
      "metadata": {
        "id": "cJJeUtp15KCk",
        "outputId": "40feb828-4680-48e9-ec20-d25b288093f4",
        "colab": {
          "base_uri": "https://localhost:8080/"
        }
      },
      "source": [
        "# 2-D, 3-D....\n",
        "\n",
        "b = np.array([[0, 1, 2], [3, 4, 5]])\n",
        "\n",
        "b"
      ],
      "execution_count": null,
      "outputs": [
        {
          "output_type": "execute_result",
          "data": {
            "text/plain": [
              "array([[0, 1, 2],\n",
              "       [3, 4, 5]])"
            ]
          },
          "metadata": {},
          "execution_count": 9
        }
      ]
    },
    {
      "cell_type": "code",
      "metadata": {
        "id": "5Bj4A__V5KCn",
        "outputId": "dc5c2b9f-d982-469e-abf6-16c57b2ef0c8",
        "colab": {
          "base_uri": "https://localhost:8080/"
        }
      },
      "source": [
        "b.ndim"
      ],
      "execution_count": null,
      "outputs": [
        {
          "output_type": "execute_result",
          "data": {
            "text/plain": [
              "2"
            ]
          },
          "metadata": {},
          "execution_count": 10
        }
      ]
    },
    {
      "cell_type": "code",
      "metadata": {
        "id": "dcBDwROI5KCs",
        "outputId": "2dcd29f9-9fb4-4239-dde0-b5c5d728a2e6",
        "colab": {
          "base_uri": "https://localhost:8080/"
        }
      },
      "source": [
        "b.shape"
      ],
      "execution_count": null,
      "outputs": [
        {
          "output_type": "execute_result",
          "data": {
            "text/plain": [
              "(2, 3)"
            ]
          },
          "metadata": {},
          "execution_count": 11
        }
      ]
    },
    {
      "cell_type": "code",
      "metadata": {
        "id": "zXiykD5M5KC3",
        "outputId": "9e477891-30aa-4de9-f4ff-e8a522a32448",
        "colab": {
          "base_uri": "https://localhost:8080/"
        }
      },
      "source": [
        "len(b) #returns the size of the first dimention"
      ],
      "execution_count": null,
      "outputs": [
        {
          "output_type": "execute_result",
          "data": {
            "text/plain": [
              "2"
            ]
          },
          "metadata": {},
          "execution_count": 12
        }
      ]
    },
    {
      "cell_type": "code",
      "metadata": {
        "id": "wFyPIgZr5KC8",
        "outputId": "68b1cc20-3352-4aa7-f1bd-8aea7e37f086",
        "colab": {
          "base_uri": "https://localhost:8080/"
        }
      },
      "source": [
        "c = np.array([[[0, 1], [2, 3]], [[4, 5], [6, 7]]])\n",
        "\n",
        "c"
      ],
      "execution_count": null,
      "outputs": [
        {
          "output_type": "execute_result",
          "data": {
            "text/plain": [
              "array([[[0, 1],\n",
              "        [2, 3]],\n",
              "\n",
              "       [[4, 5],\n",
              "        [6, 7]]])"
            ]
          },
          "metadata": {},
          "execution_count": 13
        }
      ]
    },
    {
      "cell_type": "code",
      "metadata": {
        "id": "PkQivfRj5KDB",
        "outputId": "4da24319-3f9c-474e-b3c2-80b7952ae43b",
        "colab": {
          "base_uri": "https://localhost:8080/"
        }
      },
      "source": [
        "c.ndim"
      ],
      "execution_count": null,
      "outputs": [
        {
          "output_type": "execute_result",
          "data": {
            "text/plain": [
              "3"
            ]
          },
          "metadata": {},
          "execution_count": 14
        }
      ]
    },
    {
      "cell_type": "code",
      "metadata": {
        "id": "xxo09EEZ5KDF",
        "outputId": "73b6f847-da70-455f-d6e4-9b4fc78d9b46",
        "colab": {
          "base_uri": "https://localhost:8080/"
        }
      },
      "source": [
        "c.shape"
      ],
      "execution_count": null,
      "outputs": [
        {
          "output_type": "execute_result",
          "data": {
            "text/plain": [
              "(2, 2, 2)"
            ]
          },
          "metadata": {},
          "execution_count": 15
        }
      ]
    },
    {
      "cell_type": "markdown",
      "metadata": {
        "id": "tEccAOSn5KDK"
      },
      "source": [
        "** 1.2  Functions for creating arrays**"
      ]
    },
    {
      "cell_type": "code",
      "metadata": {
        "id": "yEeTwNqW5KDM",
        "outputId": "4ee2be7c-b091-467e-8b78-70149d2e1388",
        "colab": {
          "base_uri": "https://localhost:8080/"
        }
      },
      "source": [
        "#using arrange function\n",
        "\n",
        "# arange is an array-valued version of the built-in Python range function\n",
        "\n",
        "a = np.arange(10) # 0.... n-1\n",
        "a"
      ],
      "execution_count": null,
      "outputs": [
        {
          "output_type": "execute_result",
          "data": {
            "text/plain": [
              "array([0, 1, 2, 3, 4, 5, 6, 7, 8, 9])"
            ]
          },
          "metadata": {},
          "execution_count": 16
        }
      ]
    },
    {
      "cell_type": "code",
      "metadata": {
        "id": "w-aKnDg05KDQ",
        "outputId": "7b302c69-6144-497f-cfb4-839daa5b674a",
        "colab": {
          "base_uri": "https://localhost:8080/"
        }
      },
      "source": [
        "b = np.arange(1, 10, 1) #start, end (exclusive), step\n",
        "\n",
        "b"
      ],
      "execution_count": null,
      "outputs": [
        {
          "output_type": "execute_result",
          "data": {
            "text/plain": [
              "array([1, 2, 3, 4, 5, 6, 7, 8, 9])"
            ]
          },
          "metadata": {},
          "execution_count": 19
        }
      ]
    },
    {
      "cell_type": "code",
      "metadata": {
        "id": "PbY7KZ2T5KDU",
        "outputId": "4687612b-be9e-4ec5-88ba-450328857fa3",
        "colab": {
          "base_uri": "https://localhost:8080/"
        }
      },
      "source": [
        "#using linspace\n",
        "\n",
        "a = np.linspace(0, 1, 6) #start, end, number of points\n",
        "\n",
        "a"
      ],
      "execution_count": null,
      "outputs": [
        {
          "output_type": "execute_result",
          "data": {
            "text/plain": [
              "array([0. , 0.2, 0.4, 0.6, 0.8, 1. ])"
            ]
          },
          "metadata": {},
          "execution_count": 20
        }
      ]
    },
    {
      "cell_type": "code",
      "metadata": {
        "id": "jEXPF_bp5KDZ",
        "outputId": "14f2bae4-19bb-49d8-9963-07f6080dfe7e",
        "colab": {
          "base_uri": "https://localhost:8080/"
        }
      },
      "source": [
        "#common arrays\n",
        "\n",
        "a = np.ones((3, 3))\n",
        "\n",
        "a"
      ],
      "execution_count": null,
      "outputs": [
        {
          "output_type": "execute_result",
          "data": {
            "text/plain": [
              "array([[1., 1., 1.],\n",
              "       [1., 1., 1.],\n",
              "       [1., 1., 1.]])"
            ]
          },
          "metadata": {},
          "execution_count": 21
        }
      ]
    },
    {
      "cell_type": "code",
      "metadata": {
        "id": "-zPMMjEo5KDc",
        "outputId": "32817f84-0bae-4c1d-bc8a-f0f669cede21",
        "colab": {
          "base_uri": "https://localhost:8080/"
        }
      },
      "source": [
        "b = np.zeros((3, 3))\n",
        "\n",
        "b"
      ],
      "execution_count": null,
      "outputs": [
        {
          "output_type": "execute_result",
          "data": {
            "text/plain": [
              "array([[0., 0., 0.],\n",
              "       [0., 0., 0.],\n",
              "       [0., 0., 0.]])"
            ]
          },
          "metadata": {},
          "execution_count": 22
        }
      ]
    },
    {
      "cell_type": "code",
      "source": [
        "d = np.full((3,3), 5)\n",
        "print(d)"
      ],
      "metadata": {
        "colab": {
          "base_uri": "https://localhost:8080/"
        },
        "id": "rpQwaEcclOlM",
        "outputId": "7bb67810-2cdc-495c-a9b6-de57b976237e"
      },
      "execution_count": null,
      "outputs": [
        {
          "output_type": "stream",
          "name": "stdout",
          "text": [
            "[[5 5 5]\n",
            " [5 5 5]\n",
            " [5 5 5]]\n"
          ]
        }
      ]
    },
    {
      "cell_type": "code",
      "metadata": {
        "id": "iva_x1Y25KDf",
        "outputId": "3e45b836-cf93-4856-8141-743adabc34a7",
        "colab": {
          "base_uri": "https://localhost:8080/"
        }
      },
      "source": [
        "c = np.eye(3)  #Return a 2-D array with ones on the diagonal and zeros elsewhere.\n",
        "\n",
        "c"
      ],
      "execution_count": null,
      "outputs": [
        {
          "output_type": "execute_result",
          "data": {
            "text/plain": [
              "array([[1., 0., 0.],\n",
              "       [0., 1., 0.],\n",
              "       [0., 0., 1.]])"
            ]
          },
          "metadata": {},
          "execution_count": 25
        }
      ]
    },
    {
      "cell_type": "code",
      "metadata": {
        "id": "0UPv6IBd5KDk",
        "outputId": "2986f52b-d611-4047-e2ee-85859b1850a0",
        "colab": {
          "base_uri": "https://localhost:8080/"
        }
      },
      "source": [
        "d = np.eye(3, 2) #3 is number of rows, 2 is number of columns, index of diagonal start with 0\n",
        "\n",
        "d"
      ],
      "execution_count": null,
      "outputs": [
        {
          "output_type": "execute_result",
          "data": {
            "text/plain": [
              "array([[1., 0.],\n",
              "       [0., 1.],\n",
              "       [0., 0.]])"
            ]
          },
          "metadata": {},
          "execution_count": 26
        }
      ]
    },
    {
      "cell_type": "code",
      "metadata": {
        "id": "X0khu_6H5KDo",
        "outputId": "0fce942a-aa3e-462c-8bb5-70c2d1fe05e5",
        "colab": {
          "base_uri": "https://localhost:8080/"
        }
      },
      "source": [
        "#create array using diag function\n",
        "\n",
        "a = np.diag([1, 2, 3, 4]) #construct a diagonal array.\n",
        "\n",
        "a"
      ],
      "execution_count": null,
      "outputs": [
        {
          "output_type": "execute_result",
          "data": {
            "text/plain": [
              "array([[1, 0, 0, 0],\n",
              "       [0, 2, 0, 0],\n",
              "       [0, 0, 3, 0],\n",
              "       [0, 0, 0, 4]])"
            ]
          },
          "metadata": {},
          "execution_count": 27
        }
      ]
    },
    {
      "cell_type": "code",
      "metadata": {
        "id": "jtu2ChUt5KDq",
        "outputId": "1dac2a43-ebb3-4b16-eb66-62d7f2d4792b",
        "colab": {
          "base_uri": "https://localhost:8080/"
        }
      },
      "source": [
        "np.diag(a)   #Extract diagonal"
      ],
      "execution_count": null,
      "outputs": [
        {
          "output_type": "execute_result",
          "data": {
            "text/plain": [
              "array([1, 2, 3, 4])"
            ]
          },
          "metadata": {},
          "execution_count": 28
        }
      ]
    },
    {
      "cell_type": "code",
      "metadata": {
        "id": "JfahvFnj5KDu",
        "outputId": "a75ff407-2dc5-473e-ebcc-290c4dda067b",
        "colab": {
          "base_uri": "https://localhost:8080/"
        }
      },
      "source": [
        "#create array using random\n",
        "\n",
        "#Create an array of the given shape and populate it with random samples from a uniform distribution over [0, 1).\n",
        "a = np.random.rand(4)\n",
        "\n",
        "a"
      ],
      "execution_count": null,
      "outputs": [
        {
          "output_type": "execute_result",
          "data": {
            "text/plain": [
              "array([0.10185549, 0.80163357, 0.76110738, 0.43141584])"
            ]
          },
          "metadata": {},
          "execution_count": 29
        }
      ]
    },
    {
      "cell_type": "code",
      "metadata": {
        "id": "ot7Aij7d5KDw",
        "outputId": "c9da9f22-4621-4e50-f709-6400133018d6",
        "colab": {
          "base_uri": "https://localhost:8080/"
        }
      },
      "source": [
        "a = np.random.randn(4)#Return a sample (or samples) from the “standard normal” distribution.  ***Gausian***\n",
        "\n",
        "a"
      ],
      "execution_count": null,
      "outputs": [
        {
          "output_type": "execute_result",
          "data": {
            "text/plain": [
              "array([ 0.94438986, -1.4885102 ,  0.07380731, -0.13065855])"
            ]
          },
          "metadata": {},
          "execution_count": 30
        }
      ]
    },
    {
      "cell_type": "markdown",
      "metadata": {
        "id": "aRK5tN_F5KDz"
      },
      "source": [
        "**Note:**\n",
        "    \n",
        "For random samples from N(\\mu, \\sigma^2), use:\n",
        "\n",
        "sigma * np.random.randn(...) + mu\n",
        "\n"
      ]
    },
    {
      "cell_type": "markdown",
      "metadata": {
        "id": "36MjYG6E5KD0"
      },
      "source": [
        "# 2. Basic DataTypes"
      ]
    },
    {
      "cell_type": "markdown",
      "metadata": {
        "id": "-K6yrynt5KD1"
      },
      "source": [
        "You may have noticed that, in some instances, array elements are displayed with a **trailing dot (e.g. 2. vs 2)**. This is due to a difference in the **data-type** used:"
      ]
    },
    {
      "cell_type": "code",
      "metadata": {
        "id": "Dee7Z3215KD2",
        "outputId": "672349c2-3cbf-4a6f-bed7-d585a8662a5a",
        "colab": {
          "base_uri": "https://localhost:8080/"
        }
      },
      "source": [
        "a = np.arange(10)\n",
        "print(a)\n",
        "a.dtype"
      ],
      "execution_count": null,
      "outputs": [
        {
          "output_type": "stream",
          "name": "stdout",
          "text": [
            "[0 1 2 3 4 5 6 7 8 9]\n"
          ]
        },
        {
          "output_type": "execute_result",
          "data": {
            "text/plain": [
              "dtype('int64')"
            ]
          },
          "metadata": {},
          "execution_count": 33
        }
      ]
    },
    {
      "cell_type": "code",
      "metadata": {
        "id": "rTIjQKfp5KD8",
        "outputId": "534e7b57-4104-49f1-ff01-a78087a45430",
        "colab": {
          "base_uri": "https://localhost:8080/"
        }
      },
      "source": [
        "#You can explicitly specify which data-type you want:\n",
        "\n",
        "a = np.arange(10, dtype='float64')\n",
        "a"
      ],
      "execution_count": null,
      "outputs": [
        {
          "output_type": "execute_result",
          "data": {
            "text/plain": [
              "array([0., 1., 2., 3., 4., 5., 6., 7., 8., 9.])"
            ]
          },
          "metadata": {},
          "execution_count": 32
        }
      ]
    },
    {
      "cell_type": "code",
      "metadata": {
        "id": "HsKFx1Sx5KD-",
        "outputId": "efbf1f42-5a44-4e3a-e45c-2ad544128a64",
        "colab": {
          "base_uri": "https://localhost:8080/"
        }
      },
      "source": [
        "#The default data type is float for zeros and ones function\n",
        "\n",
        "a = np.zeros((3, 3))\n",
        "\n",
        "print(a)\n",
        "\n",
        "a.dtype"
      ],
      "execution_count": null,
      "outputs": [
        {
          "output_type": "stream",
          "name": "stdout",
          "text": [
            "[[0. 0. 0.]\n",
            " [0. 0. 0.]\n",
            " [0. 0. 0.]]\n"
          ]
        },
        {
          "output_type": "execute_result",
          "data": {
            "text/plain": [
              "dtype('float64')"
            ]
          },
          "metadata": {},
          "execution_count": 34
        }
      ]
    },
    {
      "cell_type": "markdown",
      "metadata": {
        "id": "dAiIi9vT5KEB"
      },
      "source": [
        "**other datatypes**"
      ]
    },
    {
      "cell_type": "code",
      "metadata": {
        "id": "XCgbLGnL5KEC",
        "outputId": "fb19a798-a214-4436-aa0c-4b31786d0ef7",
        "colab": {
          "base_uri": "https://localhost:8080/"
        }
      },
      "source": [
        "d = np.array([1+2j, 2+4j])   #Complex datatype\n",
        "\n",
        "print(d.dtype)"
      ],
      "execution_count": null,
      "outputs": [
        {
          "output_type": "stream",
          "name": "stdout",
          "text": [
            "complex128\n"
          ]
        }
      ]
    },
    {
      "cell_type": "code",
      "metadata": {
        "id": "t9Brdfix5KEF",
        "outputId": "0f580eaa-fbd1-4ee6-cedc-d878beff1a57",
        "colab": {
          "base_uri": "https://localhost:8080/"
        }
      },
      "source": [
        "b = np.array([True, False, True, False])  #Boolean datatype\n",
        "\n",
        "print(b.dtype)"
      ],
      "execution_count": null,
      "outputs": [
        {
          "output_type": "stream",
          "name": "stdout",
          "text": [
            "bool\n"
          ]
        }
      ]
    },
    {
      "cell_type": "code",
      "metadata": {
        "id": "bn7PC1I45KEI",
        "colab": {
          "base_uri": "https://localhost:8080/"
        },
        "outputId": "72bdc774-b262-4e04-9acc-8e0339d5e1a7"
      },
      "source": [
        "s = np.array(['Ram', 'Robert moganbo', 'Rahim'],dtype='S')\n",
        "\n",
        "s.dtype"
      ],
      "execution_count": null,
      "outputs": [
        {
          "output_type": "execute_result",
          "data": {
            "text/plain": [
              "dtype('S14')"
            ]
          },
          "metadata": {},
          "execution_count": 38
        }
      ]
    },
    {
      "cell_type": "markdown",
      "metadata": {
        "id": "gTy0tQFl5KEM"
      },
      "source": [
        "**Each built-in data type has a character code that uniquely identifies it.**\n",
        "\n",
        "'b' − boolean\n",
        "\n",
        "'i' − (signed) integer\n",
        "\n",
        "'u' − unsigned integer\n",
        "\n",
        "'f' − floating-point\n",
        "\n",
        "'c' − complex-floating point\n",
        "\n",
        "'m' − timedelta\n",
        "\n",
        "'M' − datetime\n",
        "\n",
        "'O' − (Python) objects\n",
        "\n",
        "'S', 'a' − (byte-)string\n",
        "\n",
        "'U' − Unicode\n",
        "\n",
        "'V' − raw data (void)"
      ]
    },
    {
      "cell_type": "markdown",
      "metadata": {
        "id": "tlNp08Q-5KEQ"
      },
      "source": [
        "**For more details**\n",
        "\n",
        "**https://docs.scipy.org/doc/numpy-1.10.1/user/basics.types.html**"
      ]
    },
    {
      "cell_type": "markdown",
      "metadata": {
        "id": "lxxrSs8A5KER"
      },
      "source": [
        "# 3. Indexing and Slicing"
      ]
    },
    {
      "cell_type": "markdown",
      "metadata": {
        "id": "Z_a389VI5KET"
      },
      "source": [
        "**3.1 Indexing**"
      ]
    },
    {
      "cell_type": "markdown",
      "metadata": {
        "id": "oA4Iu7nt5KEU"
      },
      "source": [
        "The items of an array can be accessed and assigned to the same way as other **Python sequences (e.g. lists)**:"
      ]
    },
    {
      "cell_type": "code",
      "metadata": {
        "id": "F4VuVNHU5KEW",
        "outputId": "3db540c0-6a7a-4693-b7f5-410e4695540e",
        "colab": {
          "base_uri": "https://localhost:8080/"
        }
      },
      "source": [
        "a = np.arange(10)\n",
        "print(a)\n",
        "print(a[5])  #indices begin at 0, like other Python sequences (and C/C++)"
      ],
      "execution_count": null,
      "outputs": [
        {
          "output_type": "stream",
          "name": "stdout",
          "text": [
            "[0 1 2 3 4 5 6 7 8 9]\n",
            "5\n"
          ]
        }
      ]
    },
    {
      "cell_type": "code",
      "metadata": {
        "id": "9hwCCtDL5KEb",
        "outputId": "54362120-fb39-4534-bfcc-4410767b0bb7",
        "colab": {
          "base_uri": "https://localhost:8080/"
        }
      },
      "source": [
        "# For multidimensional arrays, indexes are tuples of integers:\n",
        "\n",
        "a = np.diag([1, 2, 3])\n",
        "\n",
        "print(a[2, 2])"
      ],
      "execution_count": null,
      "outputs": [
        {
          "output_type": "stream",
          "name": "stdout",
          "text": [
            "3\n"
          ]
        }
      ]
    },
    {
      "cell_type": "code",
      "metadata": {
        "id": "bS9JIqhw5KEf",
        "outputId": "b440c67b-46c6-4839-ea73-1f0a50a38733",
        "colab": {
          "base_uri": "https://localhost:8080/"
        }
      },
      "source": [
        "a[2, 1] = 5 #assigning value\n",
        "\n",
        "a"
      ],
      "execution_count": null,
      "outputs": [
        {
          "output_type": "execute_result",
          "data": {
            "text/plain": [
              "array([[1, 0, 0],\n",
              "       [0, 2, 0],\n",
              "       [0, 5, 3]])"
            ]
          },
          "metadata": {},
          "execution_count": 42
        }
      ]
    },
    {
      "cell_type": "markdown",
      "metadata": {
        "id": "oKY3p8dz5KEi"
      },
      "source": [
        "**3.2 Slicing**"
      ]
    },
    {
      "cell_type": "code",
      "metadata": {
        "id": "LJ7vz5uf5KEj",
        "outputId": "355cf61c-d87b-4f6d-cec7-c49771511706"
      },
      "source": [
        "a = np.arange(10)\n",
        "\n",
        "a"
      ],
      "execution_count": null,
      "outputs": [
        {
          "output_type": "execute_result",
          "data": {
            "text/plain": [
              "array([0, 1, 2, 3, 4, 5, 6, 7, 8, 9])"
            ]
          },
          "metadata": {
            "tags": []
          },
          "execution_count": 36
        }
      ]
    },
    {
      "cell_type": "code",
      "metadata": {
        "id": "5-XmC2tC5KEr",
        "outputId": "e1105d21-92df-4bbc-80e5-1db0a130a1d9",
        "colab": {
          "base_uri": "https://localhost:8080/"
        }
      },
      "source": [
        "a[1:8:2] # [startindex: endindex(exclusive) : step]"
      ],
      "execution_count": null,
      "outputs": [
        {
          "output_type": "execute_result",
          "data": {
            "text/plain": [
              "array([[0, 2, 0]])"
            ]
          },
          "metadata": {},
          "execution_count": 43
        }
      ]
    },
    {
      "cell_type": "code",
      "metadata": {
        "id": "kCvFrEFK5KEv",
        "outputId": "1fe5d775-008c-4af8-e602-fc077e4381f5"
      },
      "source": [
        "#we can also combine assignment and slicing:\n",
        "\n",
        "a = np.arange(10)\n",
        "a[5:] = 10\n",
        "a"
      ],
      "execution_count": null,
      "outputs": [
        {
          "output_type": "execute_result",
          "data": {
            "text/plain": [
              "array([ 0,  1,  2,  3,  4, 10, 10, 10, 10, 10])"
            ]
          },
          "metadata": {
            "tags": []
          },
          "execution_count": 39
        }
      ]
    },
    {
      "cell_type": "code",
      "metadata": {
        "id": "Mnj-1D8y5KE0",
        "outputId": "c7538e1e-fb75-4b56-dbf5-8c49917e2214"
      },
      "source": [
        "b = np.arange(5)\n",
        "a[5:] = b[::-1]  #assigning\n",
        "\n",
        "a"
      ],
      "execution_count": null,
      "outputs": [
        {
          "output_type": "execute_result",
          "data": {
            "text/plain": [
              "array([0, 1, 2, 3, 4, 4, 3, 2, 1, 0])"
            ]
          },
          "metadata": {
            "tags": []
          },
          "execution_count": 40
        }
      ]
    },
    {
      "cell_type": "markdown",
      "metadata": {
        "id": "PFR1291r5KE3"
      },
      "source": [
        "# 4. Copies and Views"
      ]
    },
    {
      "cell_type": "markdown",
      "metadata": {
        "id": "pNCFMofD5KE4"
      },
      "source": [
        "A slicing operation creates a view on the original array, which is just a way of accessing array data. Thus the original array is not copied in memory. You can use **np.may_share_memory()** to check if two arrays share the same memory block."
      ]
    },
    {
      "cell_type": "markdown",
      "metadata": {
        "id": "QLK31tTF5KE5"
      },
      "source": [
        "**When modifying the view, the original array is modified as well:**"
      ]
    },
    {
      "cell_type": "code",
      "metadata": {
        "id": "4XKbPBCn5KE6",
        "outputId": "cd1154cc-2630-465e-8379-61768735f42b",
        "colab": {
          "base_uri": "https://localhost:8080/"
        }
      },
      "source": [
        "a = np.arange(10)\n",
        "a"
      ],
      "execution_count": null,
      "outputs": [
        {
          "output_type": "execute_result",
          "data": {
            "text/plain": [
              "array([0, 1, 2, 3, 4, 5, 6, 7, 8, 9])"
            ]
          },
          "metadata": {},
          "execution_count": 44
        }
      ]
    },
    {
      "cell_type": "code",
      "metadata": {
        "id": "HbR8tgg25KE-",
        "outputId": "3c66f1d8-49bf-4fe7-f817-c37cd98444f2"
      },
      "source": [
        "b = a[::2]\n",
        "b"
      ],
      "execution_count": null,
      "outputs": [
        {
          "output_type": "execute_result",
          "data": {
            "text/plain": [
              "array([0, 2, 4, 6, 8])"
            ]
          },
          "metadata": {
            "tags": []
          },
          "execution_count": 42
        }
      ]
    },
    {
      "cell_type": "code",
      "metadata": {
        "id": "cjz9r8q25KFC",
        "outputId": "f0798709-172e-4f6b-dc7a-5a0b359eb909"
      },
      "source": [
        "np.shares_memory(a, b)"
      ],
      "execution_count": null,
      "outputs": [
        {
          "output_type": "execute_result",
          "data": {
            "text/plain": [
              "True"
            ]
          },
          "metadata": {
            "tags": []
          },
          "execution_count": 43
        }
      ]
    },
    {
      "cell_type": "code",
      "metadata": {
        "id": "PGjnKce25KFG",
        "outputId": "ab5e72e7-529c-4555-bc5e-21aa6f397333"
      },
      "source": [
        "b[0] = 10\n",
        "b"
      ],
      "execution_count": null,
      "outputs": [
        {
          "output_type": "execute_result",
          "data": {
            "text/plain": [
              "array([10,  2,  4,  6,  8])"
            ]
          },
          "metadata": {
            "tags": []
          },
          "execution_count": 44
        }
      ]
    },
    {
      "cell_type": "code",
      "metadata": {
        "id": "och7ft5c5KFN",
        "outputId": "1279b0a9-2948-4f54-b9fa-534dba6121a3"
      },
      "source": [
        "a  #eventhough we modified b,  it updated 'a' because both shares same memory"
      ],
      "execution_count": null,
      "outputs": [
        {
          "output_type": "execute_result",
          "data": {
            "text/plain": [
              "array([10,  1,  2,  3,  4,  5,  6,  7,  8,  9])"
            ]
          },
          "metadata": {
            "tags": []
          },
          "execution_count": 45
        }
      ]
    },
    {
      "cell_type": "code",
      "metadata": {
        "id": "RwH_Zza45KFR",
        "outputId": "e38c2f3a-c481-49cd-a0b9-87f8441c93fd"
      },
      "source": [
        "\n",
        "\n",
        "a = np.arange(10)\n",
        "\n",
        "c = a[::2].copy()     #force a copy\n",
        "c"
      ],
      "execution_count": null,
      "outputs": [
        {
          "output_type": "execute_result",
          "data": {
            "text/plain": [
              "array([0, 2, 4, 6, 8])"
            ]
          },
          "metadata": {
            "tags": []
          },
          "execution_count": 46
        }
      ]
    },
    {
      "cell_type": "code",
      "metadata": {
        "id": "zhACmhU85KFW",
        "outputId": "deabb60c-1fd4-44e7-dfb3-f2c77c50a1d8"
      },
      "source": [
        "np.shares_memory(a, c)"
      ],
      "execution_count": null,
      "outputs": [
        {
          "output_type": "execute_result",
          "data": {
            "text/plain": [
              "False"
            ]
          },
          "metadata": {
            "tags": []
          },
          "execution_count": 47
        }
      ]
    },
    {
      "cell_type": "code",
      "metadata": {
        "id": "zbhoU-2W5KFZ",
        "outputId": "20ba89b5-c1e2-432f-bd94-d071991750b1"
      },
      "source": [
        "c[0] = 10\n",
        "\n",
        "a"
      ],
      "execution_count": null,
      "outputs": [
        {
          "output_type": "execute_result",
          "data": {
            "text/plain": [
              "array([0, 1, 2, 3, 4, 5, 6, 7, 8, 9])"
            ]
          },
          "metadata": {
            "tags": []
          },
          "execution_count": 48
        }
      ]
    },
    {
      "cell_type": "markdown",
      "metadata": {
        "id": "BzcH6VRZ5KFc"
      },
      "source": [
        "# 5. Fancy Indexing"
      ]
    },
    {
      "cell_type": "markdown",
      "metadata": {
        "id": "hpi-JUwC5KFc"
      },
      "source": [
        "NumPy arrays can be indexed with slices, but also with boolean or integer arrays **(masks)**. This method is called **fancy indexing**. It creates copies not views."
      ]
    },
    {
      "cell_type": "markdown",
      "metadata": {
        "id": "RJtFgW0o5KFf"
      },
      "source": [
        "**Using Boolean Mask**"
      ]
    },
    {
      "cell_type": "code",
      "metadata": {
        "id": "Zb5eSA455KFn",
        "outputId": "fb604d35-3d0c-4c1d-d78c-64268169d116",
        "colab": {
          "base_uri": "https://localhost:8080/"
        }
      },
      "source": [
        "import numpy as np\n",
        "a = np.random.randint(0, 20, 15)\n",
        "a"
      ],
      "execution_count": null,
      "outputs": [
        {
          "output_type": "execute_result",
          "data": {
            "text/plain": [
              "array([ 8, 11,  4,  0, 11, 16, 15, 12, 13, 10, 13, 14,  5,  8,  7])"
            ]
          },
          "metadata": {},
          "execution_count": 1
        }
      ]
    },
    {
      "cell_type": "code",
      "metadata": {
        "id": "EaIy9IdS5KFq"
      },
      "source": [
        "mask = (a % 2 == 0)"
      ],
      "execution_count": null,
      "outputs": []
    },
    {
      "cell_type": "code",
      "metadata": {
        "id": "F7YUrhyv5KFt",
        "outputId": "392d69bb-c4e5-402a-8494-d1204192a869",
        "colab": {
          "base_uri": "https://localhost:8080/"
        }
      },
      "source": [
        "extract_from_a = a[mask]\n",
        "\n",
        "extract_from_a"
      ],
      "execution_count": null,
      "outputs": [
        {
          "output_type": "execute_result",
          "data": {
            "text/plain": [
              "array([ 8,  4,  0, 16, 12, 10, 14,  8])"
            ]
          },
          "metadata": {},
          "execution_count": 3
        }
      ]
    },
    {
      "cell_type": "markdown",
      "metadata": {
        "id": "cgMKaiDh5KFx"
      },
      "source": [
        "**Indexing with a mask can be very useful to assign a new value to a sub-array:**"
      ]
    },
    {
      "cell_type": "code",
      "metadata": {
        "id": "AMnQz8f15KFx",
        "outputId": "1c21d563-a388-4e0a-a5f3-d8ab743d491d"
      },
      "source": [
        "a[mask] = -1\n",
        "a"
      ],
      "execution_count": null,
      "outputs": [
        {
          "output_type": "execute_result",
          "data": {
            "text/plain": [
              "array([-1, 17,  1, -1,  5, 17, -1, -1, -1, 11, -1, 15, -1, -1,  7])"
            ]
          },
          "metadata": {
            "tags": []
          },
          "execution_count": 52
        }
      ]
    },
    {
      "cell_type": "markdown",
      "metadata": {
        "id": "Z0y-Uzk75KF0"
      },
      "source": [
        "**Indexing with an array of integers**"
      ]
    },
    {
      "cell_type": "code",
      "metadata": {
        "id": "2cdfdqQn5KF1",
        "outputId": "cb4c6298-1b99-4231-969e-f22b3992541e"
      },
      "source": [
        "a = np.arange(0, 100, 10)\n",
        "\n",
        "a"
      ],
      "execution_count": null,
      "outputs": [
        {
          "output_type": "execute_result",
          "data": {
            "text/plain": [
              "array([ 0, 10, 20, 30, 40, 50, 60, 70, 80, 90])"
            ]
          },
          "metadata": {
            "tags": []
          },
          "execution_count": 53
        }
      ]
    },
    {
      "cell_type": "code",
      "metadata": {
        "id": "YlxMqvLm5KF4",
        "outputId": "091ba535-a1e3-405a-f87e-dc84df18081c"
      },
      "source": [
        "#Indexing can be done with an array of integers, where the same index is repeated several time:\n",
        "\n",
        "a[[2, 3, 2, 4, 2]]"
      ],
      "execution_count": null,
      "outputs": [
        {
          "output_type": "execute_result",
          "data": {
            "text/plain": [
              "array([20, 30, 20, 40, 20])"
            ]
          },
          "metadata": {
            "tags": []
          },
          "execution_count": 54
        }
      ]
    },
    {
      "cell_type": "code",
      "metadata": {
        "id": "czX77cEZ5KF6",
        "outputId": "b60b4d4f-4b31-4506-a54a-a9898a41e7d5"
      },
      "source": [
        "# New values can be assigned\n",
        "\n",
        "a[[9, 7]] = -200\n",
        "\n",
        "a"
      ],
      "execution_count": null,
      "outputs": [
        {
          "output_type": "execute_result",
          "data": {
            "text/plain": [
              "array([   0,   10,   20,   30,   40,   50,   60, -200,   80, -200])"
            ]
          },
          "metadata": {
            "tags": []
          },
          "execution_count": 55
        }
      ]
    }
  ]
}