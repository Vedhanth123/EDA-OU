{
 "cells": [
  {
   "cell_type": "code",
   "execution_count": 1,
   "metadata": {},
   "outputs": [
    {
     "data": {
      "text/plain": [
       "<Figure size 640x480 with 1 Axes>"
      ]
     },
     "metadata": {},
     "output_type": "display_data"
    }
   ],
   "source": [
    "# Import required libraries NumPy, polynomial and matplotlib\n",
    "import numpy as np\n",
    "import matplotlib.pyplot as plt\n",
    "\n",
    "# Generate two random vectors\n",
    "v1=np.random.rand(10)\n",
    "v2=np.random.rand(10)\n",
    "\n",
    "# Creates a sequence of equally separated values\n",
    "sequence = np.linspace(v1.min(),v1.max(), num=len(v1)*10)\n",
    "\n",
    "# Fit the data to polynomial fit data with 4 degree of polynomial\n",
    "coefs = np.polyfit(v1, v2, 3)\n",
    "\n",
    "# Evaluate polynomial on given sequence\n",
    "polynomial_sequence = np.polyval(coefs,sequence)\n",
    "\n",
    "# plot the  polynomial curve \n",
    "plt.plot(sequence, polynomial_sequence)\n",
    "\n",
    "# Show plot\n",
    "plt.show()"
   ]
  },
  {
   "cell_type": "code",
   "execution_count": 2,
   "metadata": {},
   "outputs": [
    {
     "name": "stdout",
     "output_type": "stream",
     "text": [
      "Matrix:\n",
      " [[2 4]\n",
      " [5 7]]\n",
      "Determinant: -5.999999999999998\n"
     ]
    }
   ],
   "source": [
    "# Import numpy \n",
    "import numpy as np\n",
    "\n",
    "# Create matrix using NumPy\n",
    "mat=np.mat([[2,4],[5,7]])\n",
    "print(\"Matrix:\\n\",mat)\n",
    "\n",
    "# Calculate determinant\n",
    "print(\"Determinant:\",np.linalg.det(mat))"
   ]
  },
  {
   "cell_type": "code",
   "execution_count": 3,
   "metadata": {},
   "outputs": [
    {
     "name": "stdout",
     "output_type": "stream",
     "text": [
      "Matrix:\n",
      " [[2 4]\n",
      " [5 7]]\n",
      "Inverse:\n",
      " [[-1.16666667  0.66666667]\n",
      " [ 0.83333333 -0.33333333]]\n"
     ]
    }
   ],
   "source": [
    "# Import numpy \n",
    "import numpy as np\n",
    "\n",
    "# Create matrix using NumPy\n",
    "mat=np.mat([[2,4],[5,7]])\n",
    "print(\"Matrix:\\n\",mat)\n",
    "\n",
    "# Find matrix inverse\n",
    "inverse = np.linalg.inv(mat)\n",
    "print(\"Inverse:\\n\",inverse)"
   ]
  },
  {
   "cell_type": "code",
   "execution_count": 4,
   "metadata": {},
   "outputs": [
    {
     "name": "stdout",
     "output_type": "stream",
     "text": [
      "Matrix A:\n",
      " [[1 1]\n",
      " [3 2]]\n",
      "Vector B: [200 450]\n"
     ]
    }
   ],
   "source": [
    "# Create matrix A and Vector B using NumPy\n",
    "A=np.mat([[1,1],[3,2]])\n",
    "print(\"Matrix A:\\n\",A)\n",
    "\n",
    "B = np.array([200,450]) \n",
    "print(\"Vector B:\", B)"
   ]
  },
  {
   "cell_type": "code",
   "execution_count": 5,
   "metadata": {},
   "outputs": [
    {
     "name": "stdout",
     "output_type": "stream",
     "text": [
      "Solution vector x: [ 50. 150.]\n"
     ]
    }
   ],
   "source": [
    "# Solve linear equations\n",
    "solution = np.linalg.solve(A, B) \n",
    "print(\"Solution vector x:\", solution)"
   ]
  },
  {
   "cell_type": "code",
   "execution_count": 6,
   "metadata": {},
   "outputs": [
    {
     "name": "stdout",
     "output_type": "stream",
     "text": [
      "Result: [[200. 450.]]\n"
     ]
    }
   ],
   "source": [
    "# Check the solution\n",
    "print(\"Result:\",np.dot(A,solution))"
   ]
  },
  {
   "cell_type": "code",
   "execution_count": null,
   "metadata": {},
   "outputs": [],
   "source": []
  },
  {
   "cell_type": "code",
   "execution_count": 1,
   "metadata": {},
   "outputs": [
    {
     "name": "stdout",
     "output_type": "stream",
     "text": [
      "Matrix:\n",
      " [[2 4]\n",
      " [5 7]]\n"
     ]
    }
   ],
   "source": [
    "# Import numpy \n",
    "import numpy as np\n",
    "\n",
    "# Create matrix using NumPy\n",
    "mat=np.mat([[2,4],[5,7]])\n",
    "print(\"Matrix:\\n\",mat)"
   ]
  },
  {
   "cell_type": "code",
   "execution_count": 2,
   "metadata": {},
   "outputs": [
    {
     "name": "stdout",
     "output_type": "stream",
     "text": [
      "Eigenvalues: [-0.62347538  9.62347538]\n",
      "Eigenvectors: [[-0.83619408 -0.46462222]\n",
      " [ 0.54843365 -0.885509  ]]\n"
     ]
    }
   ],
   "source": [
    "# Calculate the eigenvalues and eigenvectors\n",
    "eigenvalues, eigenvectors = np.linalg.eig(mat)\n",
    "print(\"Eigenvalues:\", eigenvalues) \n",
    "print(\"Eigenvectors:\", eigenvectors) "
   ]
  },
  {
   "cell_type": "code",
   "execution_count": 3,
   "metadata": {},
   "outputs": [
    {
     "name": "stdout",
     "output_type": "stream",
     "text": [
      "Eigenvalues: [-0.62347538  9.62347538]\n"
     ]
    }
   ],
   "source": [
    "# Compute eigenvalues \n",
    "eigenvalues= np.linalg.eigvals(mat)\n",
    "print(\"Eigenvalues:\", eigenvalues) "
   ]
  },
  {
   "cell_type": "code",
   "execution_count": null,
   "metadata": {},
   "outputs": [],
   "source": []
  },
  {
   "cell_type": "code",
   "execution_count": 35,
   "metadata": {},
   "outputs": [
    {
     "name": "stdout",
     "output_type": "stream",
     "text": [
      "Left Singular Matrix: [[-0.70097269 -0.06420281 -0.7102924 ]\n",
      " [-0.6748668  -0.26235919  0.68972636]\n",
      " [-0.23063411  0.9628321   0.14057828]]\n",
      "Diagonal Matrix:  [8.42757145 4.89599358 0.07270729]\n",
      "Right Singular Matrix: [[-0.84363943 -0.48976369 -0.2200092 ]\n",
      " [-0.13684207 -0.20009952  0.97017237]\n",
      " [ 0.51917893 -0.84858218 -0.10179157]]\n"
     ]
    }
   ],
   "source": [
    "# import required libraries\n",
    "import numpy as np\n",
    "from scipy.linalg import svd\n",
    "\n",
    "# Create a matrix\n",
    "mat=np.array([[5, 3, 1],[5, 3, 0],[1, 0, 5]])\n",
    "\n",
    "# Perform matrix decomposition using SVD \n",
    "U, Sigma, V_transpose = svd(mat)\n",
    "\n",
    "print(\"Left Singular Matrix:\",U)\n",
    "print(\"Diagonal Matrix: \", Sigma)\n",
    "print(\"Right Singular Matrix:\", V_transpose)"
   ]
  },
  {
   "cell_type": "code",
   "execution_count": 42,
   "metadata": {
    "scrolled": true
   },
   "outputs": [
    {
     "name": "stdout",
     "output_type": "stream",
     "text": [
      "Matrix: \n",
      " [[5 3 1]\n",
      " [5 3 1]\n",
      " [1 0 5]]\n",
      "Rank: 2\n"
     ]
    }
   ],
   "source": [
    "# import required libraries\n",
    "import numpy as np\n",
    "from numpy.linalg import matrix_rank\n",
    "\n",
    "# Create a matrix\n",
    "mat=np.array([[5, 3, 1],[5, 3, 1],[1, 0, 5]])\n",
    "\n",
    "# Compute rank of matrix\n",
    "print(\"Matrix: \\n\", mat)\n",
    "print(\"Rank:\",matrix_rank(mat))"
   ]
  },
  {
   "cell_type": "code",
   "execution_count": 1,
   "metadata": {},
   "outputs": [
    {
     "name": "stdout",
     "output_type": "stream",
     "text": [
      "Random Matrix: \n",
      " [[0.02567004 0.76283728 0.56045752]\n",
      " [0.9108559  0.12473724 0.61271728]\n",
      " [0.81452216 0.21216752 0.41230953]]\n"
     ]
    }
   ],
   "source": [
    "# Import numpy \n",
    "import numpy as np\n",
    "\n",
    "# Create an array with random values\n",
    "random_mat=np.random.random((3,3))\n",
    "print(\"Random Matrix: \\n\",random_mat)"
   ]
  },
  {
   "cell_type": "code",
   "execution_count": null,
   "metadata": {},
   "outputs": [],
   "source": []
  },
  {
   "cell_type": "code",
   "execution_count": null,
   "metadata": {},
   "outputs": [],
   "source": []
  }
 ],
 "metadata": {
  "kernelspec": {
   "display_name": "Python 3 (ipykernel)",
   "language": "python",
   "name": "python3"
  },
  "language_info": {
   "codemirror_mode": {
    "name": "ipython",
    "version": 3
   },
   "file_extension": ".py",
   "mimetype": "text/x-python",
   "name": "python",
   "nbconvert_exporter": "python",
   "pygments_lexer": "ipython3",
   "version": "3.10.6"
  }
 },
 "nbformat": 4,
 "nbformat_minor": 2
}
